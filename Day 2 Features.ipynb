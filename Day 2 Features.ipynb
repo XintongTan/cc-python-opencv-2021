{
 "cells": [
  {
   "cell_type": "markdown",
   "metadata": {},
   "source": [
    "# Now Featuring...\n",
    "\n",
    "## Feature Detection with Open CV\n",
    "\n",
    "From yesterday, we now know how image processing techniques can go transform an image from one thing into another. More importantly, we've seen how OpenCV itself handles this process. To get more into complex detection in OpenCV we will need a little more than changing pixels and converting images though. How do we go from just seeing edges to things like seeing corners or shapes? What about recognizing movement? For those, we need ways of determining how much of a change is made when we read an image, we need ways of modifying our processing behavior on a per pixel basis, we need so much more.\n",
    "\n",
    "How much more complex can we go? Very. \n",
    "\n",
    "Welcome to algorithmic world of feature detection.\n",
    "\n",
    "Here we are go far beyond using one or two series of computations to transform our images. We have to start mixing methods, and using our transformations to determine information about the images themselves.This is described in series of alorithms, layered upon one another. A lot of this is the world of computer science. But we will take you through the basics so that you know the general concpets behind feature detection algorithms, how one of them might function, and an overview of several that are made available to you through OpenCV. "
   ]
  },
  {
   "cell_type": "code",
   "execution_count": 1,
   "metadata": {},
   "outputs": [],
   "source": [
    "# Import the necessary libraries\n",
    "import numpy as np\n",
    "import cv2 \n",
    "import matplotlib.pyplot as plt  #image plotting\n",
    "%matplotlib inline\n",
    "import os #For interacting with Operating System - we use it for going through files\n",
    "import glob #For file name pattern matching"
   ]
  },
  {
   "cell_type": "markdown",
   "metadata": {},
   "source": [
    "## What on earth is a corner?\n",
    "\n",
    "Do the exercise with a book, phone, and finger.\n"
   ]
  },
  {
   "cell_type": "markdown",
   "metadata": {},
   "source": [
    "## Playing the odds with histograms\n",
    "\n"
   ]
  },
  {
   "cell_type": "code",
   "execution_count": null,
   "metadata": {},
   "outputs": [],
   "source": []
  },
  {
   "cell_type": "markdown",
   "metadata": {},
   "source": [
    "## Summary\n",
    "\n",
    "We have only scratched the surface of feature detection here. We could spend hours on implementation details, speculation about feature recognition, alternative image forms, and more, but there would be no way for us to fit that all into this workshop. \n",
    "\n",
    "Feature detection is an ongoing area of research, filled with opportunity for enterprising computational designers to make their mark. \n",
    "\n",
    "Remember that these algorithms are designed by fallible humans whose ideas about imagery may not be durable through time. Technologies change, Images change. Some algorithms perform better than others for certain purposes, some are completely beat by others. \n",
    "\n",
    "These feature detection algorithms are design, and now you know how they work. "
   ]
  }
 ],
 "metadata": {
  "kernelspec": {
   "display_name": "Python 3",
   "language": "python",
   "name": "python3"
  },
  "language_info": {
   "codemirror_mode": {
    "name": "ipython",
    "version": 3
   },
   "file_extension": ".py",
   "mimetype": "text/x-python",
   "name": "python",
   "nbconvert_exporter": "python",
   "pygments_lexer": "ipython3",
   "version": "3.7.4"
  }
 },
 "nbformat": 4,
 "nbformat_minor": 2
}
