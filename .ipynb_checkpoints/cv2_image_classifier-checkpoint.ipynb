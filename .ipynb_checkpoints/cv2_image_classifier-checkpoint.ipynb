{
 "cells": [
  {
   "cell_type": "markdown",
   "metadata": {},
   "source": [
    "This notebook is based on a tutorial by Murtaza Hassan, modified and annotaded by Franziska Mack for Parsons Creative Coding: Python Fall 2020.\n",
    "\n",
    "\n",
    "# Image Classifier\n",
    "\n",
    "Based on the feature mapping and matching notebook we can build a simple image classifier that can detect whether our magazine appears in a webcam videostream.\n",
    "\n",
    "### Import Libraries"
   ]
  },
  {
   "cell_type": "code",
   "execution_count": 1,
   "metadata": {},
   "outputs": [],
   "source": [
    "# importing libraries\n",
    "import cv2\n",
    "import numpy as np"
   ]
  },
  {
   "cell_type": "markdown",
   "metadata": {},
   "source": [
    "### Processing the query image\n",
    "\n",
    "Finding the keypoints and descriptors for our query image."
   ]
  },
  {
   "cell_type": "code",
   "execution_count": 2,
   "metadata": {},
   "outputs": [],
   "source": [
    "# read in the query image as grayscale image\n",
    "query_img = cv2.imread('./img/query/magazine.jpg', 0)\n",
    "\n",
    "# initialize detector\n",
    "orb = cv2.ORB_create(nfeatures = 1000)\n",
    "\n",
    "# find keypoints and descriptors\n",
    "kp1, des1 = orb.detectAndCompute(query_img, None)"
   ]
  },
  {
   "cell_type": "markdown",
   "metadata": {},
   "source": [
    "### Processing the videostream"
   ]
  },
  {
   "cell_type": "code",
   "execution_count": 3,
   "metadata": {},
   "outputs": [],
   "source": [
    "# initialize videostream\n",
    "vs = cv2.VideoCapture(0)"
   ]
  },
  {
   "cell_type": "markdown",
   "metadata": {},
   "source": [
    "We need to compare the descriptors of each current frame to the descriptor of our query image to find possible matches. We'll define a function that takes the frame, finds keypoints and descriptors and returns different labels depending on whether our query image could be matched or not."
   ]
  },
  {
   "cell_type": "code",
   "execution_count": 4,
   "metadata": {},
   "outputs": [],
   "source": [
    "def findID(frame):\n",
    "    # find keypoints and descriptors\n",
    "    kp2, des2 = orb.detectAndCompute(frame, None)\n",
    "    # initialize matcher\n",
    "    bf = cv2.BFMatcher()\n",
    "    \n",
    "    # exception handling (for possible errors)\n",
    "    # try for testing\n",
    "    try:\n",
    "        # use the k-nearest neighbour algorithm to match keypoints\n",
    "        matches = bf.knnMatch(des1, des2, k=2)\n",
    "        good_matches = []\n",
    "        \n",
    "        # check for ambigous matches\n",
    "        # populate list with those that are not\n",
    "        for m, n in matches:\n",
    "            if m.distance < n.distance * 0.75:\n",
    "                good_matches.append([m])\n",
    "    \n",
    "        # define label variable\n",
    "        label = ''\n",
    "\n",
    "        # if enough good matches were found, set label to 'Garden & Gun'\n",
    "        if len(good_matches) > 15:\n",
    "            label = 'Garden & Gun'\n",
    "            \n",
    "        return label\n",
    "    \n",
    "    # except for error handling\n",
    "    except:\n",
    "        pass"
   ]
  },
  {
   "cell_type": "markdown",
   "metadata": {},
   "source": [
    "Now we'll loop over every frame of our videostream, applying our custom function."
   ]
  },
  {
   "cell_type": "code",
   "execution_count": 5,
   "metadata": {},
   "outputs": [],
   "source": [
    "while True:\n",
    "    # grab the frame from the videostream\n",
    "    success, frame = vs.read()\n",
    "    # make a copy of it for later (to retain color)\n",
    "    original_frame = frame.copy()\n",
    "    # convert to grayscale image for feature detection\n",
    "    frame = cv2.cvtColor(frame,cv2.COLOR_BGR2GRAY)\n",
    "    \n",
    "    # passing the current frame into our findID function\n",
    "    label = findID(frame)\n",
    "    # draw the label on the color frame\n",
    "    cv2.putText(original_frame, label, (50,50), cv2.FONT_HERSHEY_SIMPLEX, 1, (255,0,0), 2)\n",
    " \n",
    "    # show frame with superimposed label\n",
    "    cv2.imshow('output', original_frame)\n",
    "\n",
    "    # if the 'q' key is pressed, break from the loop\n",
    "    if cv2.waitKey(1) == ord(\"q\"):\n",
    "        break\n",
    "        \n",
    "# do a bit of cleanup\n",
    "cv2.destroyAllWindows()"
   ]
  },
  {
   "cell_type": "code",
   "execution_count": null,
   "metadata": {},
   "outputs": [],
   "source": []
  }
 ],
 "metadata": {
  "kernelspec": {
   "display_name": "Python 3",
   "language": "python",
   "name": "python3"
  },
  "language_info": {
   "codemirror_mode": {
    "name": "ipython",
    "version": 3
   },
   "file_extension": ".py",
   "mimetype": "text/x-python",
   "name": "python",
   "nbconvert_exporter": "python",
   "pygments_lexer": "ipython3",
   "version": "3.8.2"
  }
 },
 "nbformat": 4,
 "nbformat_minor": 4
}
